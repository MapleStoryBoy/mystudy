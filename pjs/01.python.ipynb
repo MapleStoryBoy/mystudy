{
 "cells": [
  {
   "cell_type": "markdown",
   "metadata": {},
   "source": [
    "## 表达式\n",
    "- 由一个或者几个数字或者变量和运算符组成的一行代码\n",
    "- 通常会返回一个结果\n",
    "    ## 运算符\n",
    "     -由一个以上的值经过变化得到新值的过程就叫运算\n",
    "     -用于运算的符号叫运算符\n",
    "     -运算符的分类：\n",
    "         -算数运算符\n",
    "         -比较或者关系运算符\n",
    "         -赋值运算符\n",
    "         -逻辑运算符\n",
    "         -位运算\n",
    "         -成员运算\n",
    "         -身份运算符\n",
    "     \n",
    "     "
   ]
  },
  {
   "cell_type": "markdown",
   "metadata": {},
   "source": [
    "## 算数运算符\n",
    "-进行算数运算的符号\n",
    "- python没有自增自减运算符"
   ]
  },
  {
   "cell_type": "code",
   "execution_count": null,
   "metadata": {},
   "outputs": [
    {
     "name": "stdout",
     "output_type": "stream",
     "text": [
      "2\n",
      "6561\n"
     ]
    }
   ],
   "source": [
    "# % 取余运算\n",
    "# 除号 /\n",
    "# 乘法 *\n",
    "# 取整 // \n",
    "a = 9//4\n",
    "print(a)\n",
    "# ** 幂运算\n",
    "a = 9**4\n",
    "print(a)"
   ]
  },
  {
   "cell_type": "markdown",
   "metadata": {},
   "source": [
    "## 成员运算符\n",
    "- in\n",
    "- not in\n",
    "- 用来检测某一个变量是否在另一个变量里面"
   ]
  },
  {
   "cell_type": "code",
   "execution_count": 4,
   "metadata": {},
   "outputs": [
    {
     "name": "stdout",
     "output_type": "stream",
     "text": [
      "False\n",
      "True\n",
      "False\n"
     ]
    }
   ],
   "source": [
    "#案例\n",
    "l = [1,2,3,4,5]\n",
    "a = 7\n",
    "b = a in l\n",
    "print(b)\n",
    "a = 4\n",
    "print(a in l)\n",
    "print(a not in l)"
   ]
  },
  {
   "cell_type": "markdown",
   "metadata": {},
   "source": [
    "## 身份运算符\n",
    "- is：用来检测两个变量是否是同一个变量\n",
    "    - 语法就是var1 is var2\n",
    "- is not:两个变量不是同一个变量"
   ]
  },
  {
   "cell_type": "code",
   "execution_count": 5,
   "metadata": {},
   "outputs": [
    {
     "name": "stdout",
     "output_type": "stream",
     "text": [
      "True\n",
      "False\n"
     ]
    }
   ],
   "source": [
    "a = 9\n",
    "b = 9\n",
    "print(a is b)\n",
    "\n",
    "a = 'I love wang'\n",
    "b = 'I love wang'\n",
    "print(a is b)"
   ]
  },
  {
   "cell_type": "markdown",
   "metadata": {},
   "source": [
    "## 运算符的优先级问题\n",
    "- 永远记住，括号具有最高优先级\n",
    "- 优先级表格\n",
    "        ** 指数(最高优先级)\n",
    "        ～ + - 按位翻转，一元加号和减号（最后两个的方法名为+@和-@）\n",
    "        * / % // 乘，除，取模和取整\n",
    "        + - 加法减法\n",
    "        >> << 右移，左移运算符\n",
    "        & 位 ‘AND’\n",
    "        ^ | 位运算符\n",
    "        <= < > >= 比较运算符\n",
    "        <> == != 等于运算符\n",
    "        = %= /= //= -= += *= **= 赋值运算符\n",
    "        is is not 身份运算符\n",
    "        in  not in 成员运算符\n",
    "        not or and 逻辑运算符"
   ]
  },
  {
   "cell_type": "markdown",
   "metadata": {},
   "source": [
    "# 程序结构\n",
    "- 顺序\n",
    "- 分支\n",
    "- 循环\n"
   ]
  },
  {
   "cell_type": "code",
   "execution_count": null,
   "metadata": {
    "collapsed": true
   },
   "outputs": [],
   "source": []
  }
 ],
 "metadata": {
  "kernelspec": {
   "display_name": "Python 3",
   "language": "python",
   "name": "python3"
  },
  "language_info": {
   "codemirror_mode": {
    "name": "ipython",
    "version": 3
   },
   "file_extension": ".py",
   "mimetype": "text/x-python",
   "name": "python",
   "nbconvert_exporter": "python",
   "pygments_lexer": "ipython3",
   "version": "3.6.3"
  }
 },
 "nbformat": 4,
 "nbformat_minor": 2
}
