{
 "cells": [
  {
   "cell_type": "markdown",
   "metadata": {},
   "source": [
    "# 参数详解\n",
    "- [参考资料]（https://www.cnblogs.com/bingabcd/p/6671368.html）\n",
    "- python参考资料:headfirst python-->零基础入门学习python-->习题-->后期可以考虑腾讯免费公开课"
   ]
  },
  {
   "cell_type": "markdown",
   "metadata": {},
   "source": [
    "## 参数分类\n",
    "    - 普通参数\n",
    "    - 默认参数\n",
    "    - 关键字参数\n",
    "    - 收集参数\n",
    "- 普通参数\n",
    "    - 参见上列\n",
    "    - 定义的时候直接定义变量名\n",
    "    - 调用的时候直接把变量或者值放入指定位置\n",
    "    \n",
    "            def 函数名(参数1，参数2.....)：\n",
    "                函数体\n",
    "                \n",
    "            # 调用\n",
    "            函数名 (value1，value2......)\n",
    "            \n",
    "            # 调用的时候，具体值参考的是位置，按位置赋值\n",
    "- 默认参数\n",
    "    - 形参带有默认值\n",
    "    - 调用的时候，如果没有相对应的形参赋值，则使用默认值\n",
    "    \n",
    "            def func_name(p1=v1,p2=v2......):\n",
    "                func_block\n",
    "            \n",
    "            # 调用1\n",
    "            func_name()\n",
    "            \n",
    "            # 调用2\n",
    "            value1 = 100\n",
    "            value2 = 200\n",
    "            func_name(value1,value2)\n",
    "            \n",
    "         "
   ]
  },
  {
   "cell_type": "code",
   "execution_count": 1,
   "metadata": {
    "collapsed": true
   },
   "outputs": [],
   "source": [
    "#默认参数示例\n",
    "#报名函数，需要知道学生性别\n",
    "#学习python的学生基本都是男生，所以，报名的时候如果没有特别指定，我们认为是男生\n",
    "def reg(name,age,gender = \"male\"):\n",
    "    if gender == \"male\":\n",
    "        print(\"{0} is {1},and he is a good student\".format(name,age))\n",
    "    else:\n",
    "        print(\"{0} is {1},and she is a good student\".format(name,age))"
   ]
  },
  {
   "cell_type": "code",
   "execution_count": 2,
   "metadata": {},
   "outputs": [
    {
     "name": "stdout",
     "output_type": "stream",
     "text": [
      "mingyue is 21,and he is a good student\n",
      "xiaojing is 23,and she is a good student\n"
     ]
    }
   ],
   "source": [
    "#调用默认参数函数案例1\n",
    "reg(\"mingyue\",21)\n",
    "reg(\"xiaojing\",23,\"female\")"
   ]
  },
  {
   "cell_type": "markdown",
   "metadata": {},
   "source": [
    "## 关键字参数\n",
    "- 语法\n",
    "\n",
    "        def func(p1=v1,p2=v2.....):\n",
    "            func_body\n",
    "        调用函数：\n",
    "        func(p1=value1,p2=value2.....)\n",
    "- 比较麻烦，但也有好处：\n",
    "    - 不容易混淆，一般实参和形参只是按照位置一一对应，容易出错\n",
    "    - 使用关键字参数，可以不考虑参数位置"
   ]
  },
  {
   "cell_type": "code",
   "execution_count": 5,
   "metadata": {},
   "outputs": [
    {
     "name": "stdout",
     "output_type": "stream",
     "text": [
      "I am a student\n",
      "我叫18，今年jingjing岁了，我住我家\n",
      "I am a student\n",
      "我叫jingjing，今年18岁了，我住我家\n"
     ]
    }
   ],
   "source": [
    "#关键字参数案例\n",
    "def stu(name,age,addr):\n",
    "    print(\"I am a student\")\n",
    "    print(\"我叫{0}，今年{1}岁了，我住{2}\".format(name,age,addr))\n",
    "n = 'jingjing'\n",
    "a = 18\n",
    "addr = \"我家\"\n",
    "\n",
    "#普通参数，只按照位置传递，容易出错\n",
    "stu(a,n,addr)\n",
    "\n",
    "def stu_key(name=\"No name\",age=0,addr=\"No addr\"):\n",
    "    print(\"I am a student\")\n",
    "    print(\"我叫{0}，今年{1}岁了，我住{2}\".format(name,age,addr))\n",
    "n = 'jingjing'\n",
    "a = 18\n",
    "addr = \"我家\"\n",
    "\n",
    "stu_key(age=a,name=n,addr=addr)\n",
    "\n"
   ]
  },
  {
   "cell_type": "markdown",
   "metadata": {},
   "source": [
    "## 收集参数\n",
    "- 把没有位置，不能和定义时的参数位置相对应的参数，放入一个特定的数据结构中\n",
    "- 语法：\n",
    "\n",
    "        def func(*args):\n",
    "            func_body\n",
    "        调用：\n",
    "        func(p1,p2,p3......)\n",
    "    \n",
    "- 参数名args不是必须这么写，但是推荐直接用args，约定俗成\n",
    "- 参数名args前需要加*号\n",
    "- 收集参数可以和其他参数共存\n",
    "\n",
    "     "
   ]
  },
  {
   "cell_type": "code",
   "execution_count": 7,
   "metadata": {},
   "outputs": [
    {
     "name": "stdout",
     "output_type": "stream",
     "text": [
      "Hello 大家好，我自我介绍下，简单说两句： \n",
      "<class 'tuple'>\n",
      "liuying\n",
      "18\n",
      "安徽黄山\n",
      "wangxiaojing\n",
      "single\n",
      "Hello 大家好，我自我介绍下，简单说两句： \n",
      "<class 'tuple'>\n",
      "周大神\n"
     ]
    }
   ],
   "source": [
    "# 收集参数示例\n",
    "# 函数模拟一个学生进行自我介绍，但具体内容不清楚\n",
    "def stu(*args):\n",
    "    print(\"Hello 大家好，我自我介绍下，简单说两句： \")\n",
    "    print(type(args))\n",
    "    for item in args:\n",
    "        print(item)\n",
    "stu(\"liuying\",18,\"安徽黄山\",\"wangxiaojing\",\"single\")\n",
    "stu(\"周大神\")"
   ]
  },
  {
   "cell_type": "code",
   "execution_count": 8,
   "metadata": {},
   "outputs": [
    {
     "name": "stdout",
     "output_type": "stream",
     "text": [
      "Hello 大家好，我自我介绍下，简单说两句： \n",
      "<class 'tuple'>\n"
     ]
    }
   ],
   "source": [
    "# 收集参数案例\n",
    "# 说明收集参数可以不带任何实参调用，此时收集参数为空元组\n",
    "stu()"
   ]
  },
  {
   "cell_type": "code",
   "execution_count": 9,
   "metadata": {},
   "outputs": [
    {
     "ename": "TypeError",
     "evalue": "stu() got an unexpected keyword argument 'name'",
     "output_type": "error",
     "traceback": [
      "\u001b[0;31m---------------------------------------------------------------------------\u001b[0m",
      "\u001b[0;31mTypeError\u001b[0m                                 Traceback (most recent call last)",
      "\u001b[0;32m<ipython-input-9-ed0c9879e7d6>\u001b[0m in \u001b[0;36m<module>\u001b[0;34m()\u001b[0m\n\u001b[1;32m      1\u001b[0m \u001b[0;31m#如果使用关键字参数格式调用，会出问题\u001b[0m\u001b[0;34m\u001b[0m\u001b[0;34m\u001b[0m\u001b[0m\n\u001b[0;32m----> 2\u001b[0;31m \u001b[0mstu\u001b[0m\u001b[0;34m(\u001b[0m\u001b[0mname\u001b[0m\u001b[0;34m=\u001b[0m\u001b[0;34m\"gg\"\u001b[0m\u001b[0;34m)\u001b[0m\u001b[0;34m\u001b[0m\u001b[0m\n\u001b[0m",
      "\u001b[0;31mTypeError\u001b[0m: stu() got an unexpected keyword argument 'name'"
     ]
    }
   ],
   "source": [
    "#如果使用关键字参数格式调用，会出问题\n",
    "stu(name=\"gg\")"
   ]
  },
  {
   "cell_type": "markdown",
   "metadata": {},
   "source": [
    "### 收集参数之关键字收集参数\n",
    "- 把关键字参数按字典形式存入收集参数\n",
    "- 语法:\n",
    "        \n",
    "        def func( *kwargs):\n",
    "            func_body\n",
    "        #调用：\n",
    "        func(p1,p2,p3....)\n",
    "        \n",
    "    - kwargs一般约定俗成\n",
    "    - 调用的时候，把多余的关键字参数放入kwargs\n",
    "    - 访问kwargs需要按字典格式访问\n",
    "       "
   ]
  },
  {
   "cell_type": "code",
   "execution_count": 11,
   "metadata": {},
   "outputs": [
    {
     "name": "stdout",
     "output_type": "stream",
     "text": [
      "Hello 大家好，我自我介绍下，简单说两句： \n",
      "<class 'dict'>\n",
      "name --- liuying\n",
      "age --- 19\n",
      "addr --- 安徽黄山\n",
      "lover --- you\n",
      "work --- lala\n",
      "**************************************************\n",
      "Hello 大家好，我自我介绍下，简单说两句： \n",
      "<class 'dict'>\n",
      "name --- 周大婶\n"
     ]
    }
   ],
   "source": [
    "#收集参数之关键字收集参数示例\n",
    "def stu(**kwargs):\n",
    "    #在函数体内对于kwargs的使用不用带*号\n",
    "    print(\"Hello 大家好，我自我介绍下，简单说两句： \")\n",
    "    print(type(kwargs))\n",
    "    for k,v in kwargs.items():\n",
    "        print(k,\"---\",v)\n",
    "\n",
    "stu(name=\"liuying\",age=19,addr=\"安徽黄山\",lover=\"you\",work=\"lala\")\n",
    "print(\"*\" * 50)\n",
    "\n",
    "stu(name=\"周大婶\")\n"
   ]
  },
  {
   "cell_type": "code",
   "execution_count": 12,
   "metadata": {},
   "outputs": [
    {
     "name": "stdout",
     "output_type": "stream",
     "text": [
      "Hello 大家好，我自我介绍下，简单说两句： \n",
      "<class 'dict'>\n"
     ]
    }
   ],
   "source": [
    "# 收集参数之关键字参数也可以为空\n",
    "stu()"
   ]
  },
  {
   "cell_type": "markdown",
   "metadata": {},
   "source": [
    "### 收集参数混合调用的顺序问题\n",
    "- 收集参数，关键字参数，普通参数可以混合使用\n",
    "- 使用规则就是，普通参数和关键字参数优先\n",
    "- 定义的时候一般找普通参数，关键自参数，收集参数tuple，收集参数dict"
   ]
  },
  {
   "cell_type": "code",
   "execution_count": 19,
   "metadata": {},
   "outputs": [
    {
     "name": "stdout",
     "output_type": "stream",
     "text": [
      "Hello，大家好\n",
      "我叫liuyong，我今年19岁了.\n",
      "我没有爱好\n",
      "********************\n",
      "##############################\n"
     ]
    }
   ],
   "source": [
    "# 收集参数混合使用案例\n",
    "#stu 模拟一个学生的自我介绍\n",
    "def stu(name,age,*args,hobby=\"没有\",**kwargs):\n",
    "\n",
    "    print(\"Hello，大家好\")\n",
    "    print(\"我叫{0}，我今年{1}岁了.\".format(name,age))\n",
    "    if hobby == \"没有\":\n",
    "        print(\"我没有爱好\")\n",
    "    else:\n",
    "        print(\"我的爱好是{0}\".format(hobby))\n",
    "        \n",
    "    print(\"*\" * 20)\n",
    "    for i in args:\n",
    "        print(i)\n",
    "    print(\"#\" * 30)\n",
    "    \n",
    "    for k,v in kwargs.items():\n",
    "        print(k,\"---\",v)\n",
    "        \n",
    "        \n",
    "#开始调用\n",
    "name = \"liuyong\"\n",
    "age = 19\n",
    "\n",
    "stu(name,age)"
   ]
  },
  {
   "cell_type": "markdown",
   "metadata": {},
   "source": [
    "### 收集参数的解包问题\n",
    "- 把参数放入list或者dict中，直接把list或dict中的值放入收集参数中\n",
    "- 语法案例"
   ]
  },
  {
   "cell_type": "code",
   "execution_count": 23,
   "metadata": {},
   "outputs": [
    {
     "name": "stdout",
     "output_type": "stream",
     "text": [
      "哈哈哈哈哈哈\n",
      "<class 'list'>\n",
      "0\n",
      "['liuying', 20, 230]\n"
     ]
    }
   ],
   "source": [
    "def stu(*args):\n",
    "    print(\"哈哈哈哈哈哈\")\n",
    "    n = 0\n",
    "    for i in args:\n",
    "        print(type(i))\n",
    "        print(n)\n",
    "        n += 1\n",
    "        print(i)\n",
    "\n",
    "#stu(\"liuying\",\"liuxiaojing\",19,200)\n",
    "l = list()\n",
    "l.append(\"liuying\")\n",
    "l.append(20)\n",
    "l.append(230)\n",
    "\n",
    "stu(l)"
   ]
  },
  {
   "cell_type": "markdown",
   "metadata": {},
   "source": [
    "### 返回值\n",
    "- 函数和过程的区别\n",
    "    - 有无返回值\n",
    "- 需要用return显示返回内容\n",
    "- 如果没有返回，则默认返回None\n",
    "- 推荐写法，无论有无返回值，最后都要以return结束"
   ]
  },
  {
   "cell_type": "code",
   "execution_count": 26,
   "metadata": {},
   "outputs": [
    {
     "name": "stdout",
     "output_type": "stream",
     "text": [
      "有返回值啊\n",
      "1\n",
      "没有返回值啊\n",
      "None\n"
     ]
    }
   ],
   "source": [
    "#返回值案例\n",
    "def func_1():\n",
    "    print(\"有返回值啊\")\n",
    "    return 1\n",
    "def func_2():\n",
    "    print(\"没有返回值啊\")\n",
    "    return None\n",
    "    \n",
    "f1 = func_1()\n",
    "print(f1)\n",
    "\n",
    "f2 = func_2()\n",
    "print(f2)"
   ]
  },
  {
   "cell_type": "markdown",
   "metadata": {},
   "source": [
    "# 函数文档\n",
    "- 函数的文档的作用是对当前提供使用相关的参考信息\n",
    "- 文档的写法：\n",
    "    - 在函数内部开始的第一行使用三字符串定义符\n",
    "    - 一般具有特定格式\n",
    "    - 参看案例\n",
    "    "
   ]
  }
 ],
 "metadata": {
  "kernelspec": {
   "display_name": "Python 3",
   "language": "python",
   "name": "python3"
  },
  "language_info": {
   "codemirror_mode": {
    "name": "ipython",
    "version": 3
   },
   "file_extension": ".py",
   "mimetype": "text/x-python",
   "name": "python",
   "nbconvert_exporter": "python",
   "pygments_lexer": "ipython3",
   "version": "3.6.3"
  }
 },
 "nbformat": 4,
 "nbformat_minor": 2
}
