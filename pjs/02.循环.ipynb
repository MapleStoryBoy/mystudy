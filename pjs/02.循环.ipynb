{
 "cells": [
  {
   "cell_type": "markdown",
   "metadata": {},
   "source": [
    "# 分之循环\n",
    "- for语句\n",
    "- while语句"
   ]
  },
  {
   "cell_type": "markdown",
   "metadata": {},
   "source": [
    "## for循环\n",
    "- for循环\n",
    "\n",
    "    for 变量 in 序列:\n",
    "        语句1\n",
    "        语句2\n",
    "        语句3\n",
    "        ....\n",
    "        "
   ]
  },
  {
   "cell_type": "code",
   "execution_count": 1,
   "metadata": {},
   "outputs": [
    {
     "name": "stdout",
     "output_type": "stream",
     "text": [
      "a\n",
      "b\n",
      "c\n",
      "d\n"
     ]
    }
   ],
   "source": [
    "for name in ['a','b','c','d']:\n",
    "    print(name)"
   ]
  },
  {
   "cell_type": "code",
   "execution_count": 2,
   "metadata": {},
   "outputs": [
    {
     "name": "stdout",
     "output_type": "stream",
     "text": [
      "a\n",
      "你滚开\n",
      "b\n",
      "你滚开\n",
      "c\n",
      "你滚开\n",
      "d\n",
      "我最爱的d出现了\n"
     ]
    }
   ],
   "source": [
    "for name in ['a','b','c','d']:\n",
    "    print(name)\n",
    "    if name == 'd':\n",
    "        print('我最爱的{}出现了'.format(name))\n",
    "    else:\n",
    "        print('你滚开')"
   ]
  },
  {
   "cell_type": "markdown",
   "metadata": {},
   "source": [
    "## range介绍\n",
    "- 生成一个数字序列\n",
    "- 具体范围可以设定"
   ]
  },
  {
   "cell_type": "code",
   "execution_count": 3,
   "metadata": {},
   "outputs": [
    {
     "name": "stdout",
     "output_type": "stream",
     "text": [
      "1\n",
      "2\n",
      "3\n",
      "4\n",
      "5\n",
      "6\n",
      "7\n",
      "8\n",
      "9\n",
      "10\n"
     ]
    }
   ],
   "source": [
    "#range练习\n",
    "#打印从1-10的数字\n",
    "#注意，一般在python中，如果由表示范围的两个数，一般包含左边数字，不包含右边数字\n",
    "#randint是特例，它左右都包含\n",
    "#range函数在python2和python3中有严重区别\n",
    "for i in range(1,11):\n",
    "    print(i)"
   ]
  },
  {
   "cell_type": "markdown",
   "metadata": {},
   "source": [
    "## for - else 语句\n",
    "- 当for循环结束的时候，会执行else语句\n",
    "- else语句是可选的"
   ]
  },
  {
   "cell_type": "code",
   "execution_count": 4,
   "metadata": {},
   "outputs": [
    {
     "name": "stdout",
     "output_type": "stream",
     "text": [
      "a\n",
      "你滚开\n",
      "b\n",
      "你滚开\n",
      "c\n",
      "你滚开\n",
      "d\n",
      "我最爱的d出现了\n",
      "不会再爱了\n"
     ]
    }
   ],
   "source": [
    "#for - else语句\n",
    "#打印列表中的同学\n",
    "#如果没有在列表中的，或者列表结束了，我们需要打印提示语句，表示不爱了\n",
    "for name in ['a','b','c','d']:\n",
    "    print(name)\n",
    "    if name == 'd':\n",
    "        print('我最爱的{}出现了'.format(name))\n",
    "    else:\n",
    "        print('你滚开')\n",
    "else:\n",
    "    print('不会再爱了')"
   ]
  },
  {
   "cell_type": "markdown",
   "metadata": {},
   "source": [
    "## for循环之break，continue，pass\n",
    "- break:无条件结束整个循环，简称循环猝死\n",
    "- continue:无条件结束本次循环，重新进入下一轮循环\n",
    "- pass：表示略过,通常表示占位符"
   ]
  },
  {
   "cell_type": "code",
   "execution_count": 6,
   "metadata": {},
   "outputs": [
    {
     "name": "stdout",
     "output_type": "stream",
     "text": [
      "1\n",
      "2\n",
      "3\n",
      "4\n",
      "5\n",
      "6\n",
      "我找到了\n"
     ]
    }
   ],
   "source": [
    "#在数字1-10中，寻找数字7，一旦找到打印出来，其余则什么都不做\n",
    "#在for循环中的变量表示，一般用i，k，m，n，或者indx，idx，item之类\n",
    "#在python中，如果循环变量名称不重要，可以用下划线（_）代替\n",
    "for i in range(1,11):\n",
    "    if i == 7:\n",
    "        print(\"我找到了\")\n",
    "        break\n",
    "    else:\n",
    "        print(i)\n",
    "    \n",
    "    "
   ]
  },
  {
   "cell_type": "code",
   "execution_count": 7,
   "metadata": {},
   "outputs": [
    {
     "name": "stdout",
     "output_type": "stream",
     "text": [
      "2\n",
      "4\n",
      "6\n",
      "8\n",
      "10\n"
     ]
    }
   ],
   "source": [
    "#在数字1-10中，寻找所有偶数，并打印出来\n",
    "\n",
    "for i in range(1,11):\n",
    "    if i%2 == 1:\n",
    "        continue\n",
    "    else:\n",
    "        print(i)"
   ]
  },
  {
   "cell_type": "code",
   "execution_count": 8,
   "metadata": {},
   "outputs": [
    {
     "name": "stdout",
     "output_type": "stream",
     "text": [
      "2是偶数\n",
      "4是偶数\n",
      "6是偶数\n",
      "8是偶数\n",
      "10是偶数\n"
     ]
    }
   ],
   "source": [
    "#在数字1-10中，寻找所有偶数，并打印出来\n",
    "\n",
    "for i in range(1,11):\n",
    "    if i%2 == 0:\n",
    "        print(\"{0}是偶数\".format(i))\n"
   ]
  },
  {
   "cell_type": "code",
   "execution_count": 9,
   "metadata": {
    "collapsed": true
   },
   "outputs": [],
   "source": [
    "#pass例子，一般用于占位\n",
    "for i in range(1,11):\n",
    "    pass"
   ]
  },
  {
   "cell_type": "code",
   "execution_count": null,
   "metadata": {
    "collapsed": true
   },
   "outputs": [],
   "source": []
  }
 ],
 "metadata": {
  "kernelspec": {
   "display_name": "Python 3",
   "language": "python",
   "name": "python3"
  },
  "language_info": {
   "codemirror_mode": {
    "name": "ipython",
    "version": 3
   },
   "file_extension": ".py",
   "mimetype": "text/x-python",
   "name": "python",
   "nbconvert_exporter": "python",
   "pygments_lexer": "ipython3",
   "version": "3.6.3"
  }
 },
 "nbformat": 4,
 "nbformat_minor": 2
}
