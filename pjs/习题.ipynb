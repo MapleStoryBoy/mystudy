{
 "cells": [
  {
   "cell_type": "code",
   "execution_count": 6,
   "metadata": {},
   "outputs": [
    {
     "name": "stdout",
     "output_type": "stream",
     "text": [
      "<class 'dict'>\n",
      "检查是否有bug\n",
      "name ---- a\n",
      "<class 'dict'>\n"
     ]
    }
   ],
   "source": [
    "def stu(**kwargs):\n",
    "    print(type(kwargs))\n",
    "    print(\"检查是否有bug\")\n",
    "    for k,v in kwargs.items():\n",
    "        print(k,'----',v)\n",
    "        print(type(kwargs))\n",
    "stu(name=\"a\")"
   ]
  },
  {
   "cell_type": "code",
   "execution_count": 8,
   "metadata": {},
   "outputs": [
    {
     "name": "stdout",
     "output_type": "stream",
     "text": [
      "2018年10月16日 20:33\n"
     ]
    }
   ],
   "source": [
    "import time\n",
    "t = time.localtime()\n",
    "ft = time.strftime(\"%Y年%m月%d日 %H:%M\",t)\n",
    "print(ft)"
   ]
  },
  {
   "cell_type": "code",
   "execution_count": 3,
   "metadata": {},
   "outputs": [
    {
     "name": "stdout",
     "output_type": "stream",
     "text": [
      "*********\n",
      "*********\n",
      "*********\n",
      "*********\n"
     ]
    }
   ],
   "source": [
    "#简单的图形打印\n",
    "'''\n",
    "*********\n",
    "*********\n",
    "*********\n",
    "*********\n",
    "'''\n",
    "print(\"*********\")\n",
    "print(\"*********\")\n",
    "print(\"*********\")\n",
    "print(\"*********\")"
   ]
  },
  {
   "cell_type": "code",
   "execution_count": 4,
   "metadata": {},
   "outputs": [
    {
     "name": "stdout",
     "output_type": "stream",
     "text": [
      "* * * * * * \n",
      "* * * * * * \n",
      "* * * * * * \n",
      "* * * * * * \n",
      "* * * * * * \n",
      "* * * * * * \n"
     ]
    }
   ],
   "source": [
    "#更改上面代码\n",
    "#使用for循环\n",
    "for i in range(0,6):\n",
    "    print(\"* \" * 6)"
   ]
  },
  {
   "cell_type": "code",
   "execution_count": 9,
   "metadata": {},
   "outputs": [
    {
     "name": "stdout",
     "output_type": "stream",
     "text": [
      "* * * * * * \n",
      "* * * * * * \n",
      "* * * * * * \n",
      "* * * * * * \n",
      "* * * * * * \n",
      "* * * * * * \n"
     ]
    }
   ],
   "source": [
    "for i in range(0,6):\n",
    "    \n",
    "    #print(\"* \" * 6)\n",
    "    for j in range(6):\n",
    "        #print函数默认换行可以修改默认参数end\n",
    "        print(\"* \",end='')\n",
    "    #在第二个for循环执行结束，执行print函数表示每次打印完第一行*号后默认换行\n",
    "    print()"
   ]
  },
  {
   "cell_type": "code",
   "execution_count": 29,
   "metadata": {},
   "outputs": [
    {
     "name": "stdout",
     "output_type": "stream",
     "text": [
      "*         \n",
      "* *       \n",
      "*   *     \n",
      "*     *   \n",
      "* * * * * \n"
     ]
    }
   ],
   "source": [
    "#不懂有待解决,空心的矩形\n",
    "#简单的图形打印\n",
    "'''\n",
    "*********\n",
    "*       *\n",
    "*       *\n",
    "*********\n",
    "'''\n",
    "'''\n",
    "思路：\n",
    "1，正常利用for循环控制打印行\n",
    "\n",
    "'''\n",
    "for i in range(6):\n",
    "    \n",
    "    #print(\"* \" * 6)\n",
    "    for j in range(6):\n",
    "        #print函数默认换行可以修改默认参数end\n",
    "        print(\"* \",end='')\n",
    "    #在第二个for循环执行结束，执行print函数表示每次打印完第一行*号后默认换行\n",
    "    print()"
   ]
  },
  {
   "cell_type": "code",
   "execution_count": 26,
   "metadata": {},
   "outputs": [
    {
     "name": "stdout",
     "output_type": "stream",
     "text": [
      "* \n",
      "* * \n",
      "* * * \n",
      "* * * * \n",
      "* * * * * \n"
     ]
    }
   ],
   "source": [
    "for i in range(5):\n",
    "    for j in range(i+1):\n",
    "        print(\"* \",end='')\n",
    "    print()"
   ]
  },
  {
   "cell_type": "code",
   "execution_count": 22,
   "metadata": {},
   "outputs": [
    {
     "name": "stdout",
     "output_type": "stream",
     "text": [
      "* \n",
      "* * \n",
      "*   * \n",
      "*     * \n",
      "* * * * * \n"
     ]
    }
   ],
   "source": [
    "#空心三角呢\n",
    "for i in range(5):\n",
    "    for j in range(i+1):\n",
    "        if i == 4:\n",
    "            print(\"* \",end='')\n",
    "            continue\n",
    "        #如果不是最后一行\n",
    "        if j == 0 or j == i:\n",
    "            print(\"* \",end='')\n",
    "        else:\n",
    "            print(\"  \",end='')\n",
    "    print()"
   ]
  },
  {
   "cell_type": "code",
   "execution_count": 30,
   "metadata": {},
   "outputs": [
    {
     "name": "stdout",
     "output_type": "stream",
     "text": [
      "* * * * * \n",
      "* * * * \n",
      "* * * \n",
      "* * \n",
      "* \n"
     ]
    }
   ],
   "source": [
    "#i-for控制行号\n",
    "#j-for控制列号\n",
    "for i in range(5):\n",
    "    for j in range(5-i):\n",
    "        print(\"* \",end='')\n",
    "    print()"
   ]
  },
  {
   "cell_type": "code",
   "execution_count": 34,
   "metadata": {},
   "outputs": [
    {
     "name": "stdout",
     "output_type": "stream",
     "text": [
      "* * * * * \n",
      "*     * \n",
      "*   * \n",
      "* * \n",
      "* \n"
     ]
    }
   ],
   "source": [
    "#打印空三角\n",
    "#i-for控制行号\n",
    "#j-for控制列号\n",
    "for i in range(5):\n",
    "    for j in range(5-i):\n",
    "        if i == 0:\n",
    "            print(\"* \",end='')\n",
    "            continue\n",
    "        if j == 0 or j == 5-i-1:#理解？\n",
    "            print(\"* \",end='')\n",
    "        else:\n",
    "            print(\"  \",end='')\n",
    "    print()"
   ]
  },
  {
   "cell_type": "code",
   "execution_count": 36,
   "metadata": {},
   "outputs": [
    {
     "name": "stdout",
     "output_type": "stream",
     "text": [
      "      * \n",
      "     * * \n",
      "    * * * \n",
      "   * * * * \n",
      "  * * * * * \n",
      " * * * * * * \n"
     ]
    }
   ],
   "source": [
    "#打印正三角形\n",
    "#i-for控制行号\n",
    "#j-for控制列号\n",
    "for i in range(6):\n",
    "    #总提思路，先打印一行空格，代表每一行*号前的空格\n",
    "    #再不换行，打印*号\n",
    "    for j in range(6-i):\n",
    "        print(' ',end='')\n",
    "    for m in range(i+1):\n",
    "        print(\"* \",end='')\n",
    "    print()"
   ]
  },
  {
   "cell_type": "code",
   "execution_count": 38,
   "metadata": {},
   "outputs": [
    {
     "name": "stdout",
     "output_type": "stream",
     "text": [
      "    * \n",
      "   * * \n",
      "  *   * \n",
      " *     * \n",
      "* * * * * \n"
     ]
    }
   ],
   "source": [
    "#空正三角行\n",
    "for i in range(1,6):\n",
    "    #更改打印起始位置\n",
    "    for k in range(1,6-i):\n",
    "        print(end=\" \")\n",
    "    #控制列，规则是第一行第一列，第二行是第二例\n",
    "    for j in range(6-i,6):\n",
    "        if i==5 or j==6-i or j==5:\n",
    "            print(\"*\",end=' ')\n",
    "        else:\n",
    "            print(\" \",end=\" \")\n",
    "    print()"
   ]
  },
  {
   "cell_type": "code",
   "execution_count": null,
   "metadata": {
    "collapsed": true
   },
   "outputs": [],
   "source": []
  },
  {
   "cell_type": "code",
   "execution_count": null,
   "metadata": {
    "collapsed": true
   },
   "outputs": [],
   "source": []
  }
 ],
 "metadata": {
  "kernelspec": {
   "display_name": "Python 3",
   "language": "python",
   "name": "python3"
  },
  "language_info": {
   "codemirror_mode": {
    "name": "ipython",
    "version": 3
   },
   "file_extension": ".py",
   "mimetype": "text/x-python",
   "name": "python",
   "nbconvert_exporter": "python",
   "pygments_lexer": "ipython3",
   "version": "3.6.3"
  }
 },
 "nbformat": 4,
 "nbformat_minor": 2
}
